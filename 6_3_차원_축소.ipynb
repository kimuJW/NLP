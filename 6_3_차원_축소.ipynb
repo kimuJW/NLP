{
  "cells": [
    {
      "cell_type": "markdown",
      "metadata": {
        "id": "BmABW6vCzWcJ"
      },
      "source": [
        "# [자연어처리]\n",
        "# 6주차(6-2). 차원 축소\n",
        "\n",
        "\n",
        "\n"
      ]
    },
    {
      "cell_type": "markdown",
      "source": [
        "# 201801544 김진원 <- 본인의 학번, 이름으로 변경하여 제출\n",
        "* **모든 셀 실행** 후 제출하시기 바랍니다.\n",
        "* **실습 (6-2-1, 6-2-2)**이 있습니다. (제출 기한: 10/11(수) 23시 59분까지)"
      ],
      "metadata": {
        "id": "5we6SKl61jX1"
      }
    },
    {
      "cell_type": "markdown",
      "source": [
        "# 이제 Colab 사용에 모든 수강생분들이 어느정도 익숙해 졌을 거라 생각됩니다!\n",
        "> ##### 중간 중간 **'### ... 이 부분을 완성하시오'** 라는 부분의 코드를 완성해야 합니다.\n",
        "\n",
        "\n",
        "\n"
      ],
      "metadata": {
        "id": "oLw4XETF1mbE"
      }
    },
    {
      "cell_type": "markdown",
      "source": [
        "## 5주차 수업 내용 리뷰 & 정규 표현식 마무리 -시작-"
      ],
      "metadata": {
        "id": "ukmO4Ra21cnf"
      }
    },
    {
      "cell_type": "code",
      "source": [
        "import re\n",
        "\n",
        "m = re.match('[a-z]+', \"python\") # 소문자가 한번 이상 등장한 패턴을 전부 찾음\n",
        "print(m.group())"
      ],
      "metadata": {
        "id": "4BTuxc4W4hvP",
        "colab": {
          "base_uri": "https://localhost:8080/"
        },
        "outputId": "44fe9253-8bff-4afc-df74-5434bd433e85"
      },
      "execution_count": 1,
      "outputs": [
        {
          "output_type": "stream",
          "name": "stdout",
          "text": [
            "python\n"
          ]
        }
      ]
    },
    {
      "cell_type": "code",
      "source": [
        "# re.compile() 이용하여 작성해보기\n",
        "# import re는 다시 선언해주지 않아도 되나, 이해를 돕기 위해 매 셀에서 작성되어 있음\n",
        "import re\n",
        "\n",
        "pattern = re.compile('[a-z]+')\n",
        "m = pattern.match(\"python\")\n",
        "print(m.group())"
      ],
      "metadata": {
        "id": "bAJ_CiVb4rmn",
        "colab": {
          "base_uri": "https://localhost:8080/"
        },
        "outputId": "1c0d5f14-044e-4ef3-987c-24fb74e16ecd"
      },
      "execution_count": 2,
      "outputs": [
        {
          "output_type": "stream",
          "name": "stdout",
          "text": [
            "python\n"
          ]
        }
      ]
    },
    {
      "cell_type": "code",
      "source": [
        "s = pattern.sub(\"***\", \"python\")\n",
        "print(s)"
      ],
      "metadata": {
        "id": "oJIRLsl6T1bY",
        "colab": {
          "base_uri": "https://localhost:8080/"
        },
        "outputId": "d5ec5834-13c0-456e-ccb4-0418f9f1708d"
      },
      "execution_count": 3,
      "outputs": [
        {
          "output_type": "stream",
          "name": "stdout",
          "text": [
            "***\n"
          ]
        }
      ]
    },
    {
      "cell_type": "code",
      "source": [
        " s = pattern.sub(\"***\", \"python programming\")\n",
        " print(s)"
      ],
      "metadata": {
        "colab": {
          "base_uri": "https://localhost:8080/"
        },
        "id": "8_h7hsb2P0xN",
        "outputId": "5fbb4102-64e5-46b4-9d0b-4470edf9fb5c"
      },
      "execution_count": 4,
      "outputs": [
        {
          "output_type": "stream",
          "name": "stdout",
          "text": [
            "*** ***\n"
          ]
        }
      ]
    },
    {
      "cell_type": "code",
      "source": [
        "text = '''오늘의 날씨는 전국적으로 맑을 예정입니다. 시원한 가을의 날씨를 느껴보세요.\n",
        "\n",
        "홍길동 빠른뉴스 기자(gildong@fastnews.com)'''"
      ],
      "metadata": {
        "id": "74ZvTEs87Lab"
      },
      "execution_count": 5,
      "outputs": []
    },
    {
      "cell_type": "code",
      "source": [
        "# 괄호로 둘러싸인 이메일 주소 패턴을 정규 표현식으로 찾아내어 삭제하기\n",
        "import re\n",
        "\n",
        "pattern = '\\([A-Za-z0-9_\\.]+@[A-Za-z\\.]+[A-Za-z]\\)'\n",
        "re.sub(pattern, \"\", text)"
      ],
      "metadata": {
        "id": "LDBGQtae8-9O",
        "colab": {
          "base_uri": "https://localhost:8080/",
          "height": 53
        },
        "outputId": "300b22a6-10ee-4635-d734-ce65f8331901"
      },
      "execution_count": 6,
      "outputs": [
        {
          "output_type": "execute_result",
          "data": {
            "text/plain": [
              "'오늘의 날씨는 전국적으로 맑을 예정입니다. 시원한 가을의 날씨를 느껴보세요.\\n\\n홍길동 빠른뉴스 기자'"
            ],
            "application/vnd.google.colaboratory.intrinsic+json": {
              "type": "string"
            }
          },
          "metadata": {},
          "execution_count": 6
        }
      ]
    },
    {
      "cell_type": "code",
      "source": [
        "# 이메일 주소의 마지막은 com, org, edu, net, co.kr 중 하나라고 가정한다면\n",
        "import re\n",
        "\n",
        "pattern = '\\([A-Za-z0-9_\\.]+@[A-Za-z]+\\.(com|org|edu|net|co.kr)\\)'\n",
        "re.sub(pattern, \"\", text)"
      ],
      "metadata": {
        "id": "e2vzqKFK_Xk7",
        "colab": {
          "base_uri": "https://localhost:8080/",
          "height": 53
        },
        "outputId": "9c4e5c6d-8898-47a7-e391-d3ef310545b8"
      },
      "execution_count": 7,
      "outputs": [
        {
          "output_type": "execute_result",
          "data": {
            "text/plain": [
              "'오늘의 날씨는 전국적으로 맑을 예정입니다. 시원한 가을의 날씨를 느껴보세요.\\n\\n홍길동 빠른뉴스 기자'"
            ],
            "application/vnd.google.colaboratory.intrinsic+json": {
              "type": "string"
            }
          },
          "metadata": {},
          "execution_count": 7
        }
      ]
    },
    {
      "cell_type": "code",
      "source": [
        "# re.compile() 이용하여 작성해보기\n",
        "import re\n",
        "\n",
        "# 위의 코드를 re.compile() 이용하여 작성해보시오\n",
        "### ... 이 부분을 완성하시오\n",
        "### ... 이 부분을 완성하시오\n",
        "\n",
        "pattern = re.compile('\\([A-Za-z0-9_\\.]+@[A-Za-z]+\\.(com|org|edu|net|co.kr)\\)')\n",
        "pattern.sub(\"\", text)"
      ],
      "metadata": {
        "id": "11ytpKD4_1Kp",
        "colab": {
          "base_uri": "https://localhost:8080/",
          "height": 53
        },
        "outputId": "079d7661-af0b-47ab-d77c-7f51c849fd2f"
      },
      "execution_count": 8,
      "outputs": [
        {
          "output_type": "execute_result",
          "data": {
            "text/plain": [
              "'오늘의 날씨는 전국적으로 맑을 예정입니다. 시원한 가을의 날씨를 느껴보세요.\\n\\n홍길동 빠른뉴스 기자'"
            ],
            "application/vnd.google.colaboratory.intrinsic+json": {
              "type": "string"
            }
          },
          "metadata": {},
          "execution_count": 8
        }
      ]
    },
    {
      "cell_type": "code",
      "source": [
        "import re\n",
        "\n",
        "text = \"안녕하세요, 1234는 숫자이고 5678도 숫자입니다.\"\n",
        "pattern = r'\\d+'  # 하나 이상의 연속된 숫자에 대한 패턴\n",
        "numbers = re.findall(pattern, text)\n",
        "print(numbers)  # ['1234', '5678']"
      ],
      "metadata": {
        "id": "tOLpEXTx134V",
        "colab": {
          "base_uri": "https://localhost:8080/"
        },
        "outputId": "70ab1fd9-8eab-49cf-ff85-8316d6ec4d75"
      },
      "execution_count": 9,
      "outputs": [
        {
          "output_type": "stream",
          "name": "stdout",
          "text": [
            "['1234', '5678']\n"
          ]
        }
      ]
    },
    {
      "cell_type": "code",
      "source": [
        "import re\n",
        "\n",
        "# 정규 표현식을 컴파일하여 pattern 객체 생성\n",
        "text = \"안녕하세요, 1234는 숫자이고 5678도 숫자입니다.\"\n",
        "pattern = re.compile(r'\\d+')\n",
        "numbers = pattern.findall(text)\n",
        "print(numbers)  # ['1234', '5678']"
      ],
      "metadata": {
        "id": "a--U9noS3mbz",
        "colab": {
          "base_uri": "https://localhost:8080/"
        },
        "outputId": "40b9340f-18c4-4d61-829a-76c58b03884a"
      },
      "execution_count": 10,
      "outputs": [
        {
          "output_type": "stream",
          "name": "stdout",
          "text": [
            "['1234', '5678']\n"
          ]
        }
      ]
    },
    {
      "cell_type": "code",
      "source": [
        "# 정규 표현식을 이용한 토크나이저\n",
        "# A RegexpTokenizer splits a string into substrings using a regular expression.\n",
        "from nltk.tokenize import RegexpTokenizer\n",
        "\n",
        "text1 = \"Sorry, I can't go there.\"\n",
        "# 문자, 숫자, 언더바(_), 아포스트로피(＇)로 이루어진 3자 이상의 단어로 토크나이즈\n",
        "tokenizer = RegexpTokenizer(\"[\\w']{3,}\") ### ... 이 부분을 완성하시오 # ???는 tokenizer 이름\n",
        "print(tokenizer.tokenize(text1.lower())) # 소문자로 바꾸고 정규식 적용"
      ],
      "metadata": {
        "id": "zvdMxSdeA7kX",
        "colab": {
          "base_uri": "https://localhost:8080/"
        },
        "outputId": "89a56542-8a7f-4987-f656-50cfc135692f"
      },
      "execution_count": 11,
      "outputs": [
        {
          "output_type": "stream",
          "name": "stdout",
          "text": [
            "['sorry', \"can't\", 'there']\n"
          ]
        }
      ]
    },
    {
      "cell_type": "markdown",
      "source": [
        "# [[실습 6-2-1]] 이메일 주소를 찾는 정규 표현식\n",
        "* 정규 표현식의 패턴은 다양하게 작성될 수 있습니다. 이번에는 이메일 주소를 분류하는 정규표현식을 **\\w**를 사용하여 작성해 보시오. (\\w를 포함하기만 하면 되고, 그 외에는 자유)\n",
        "1. 여러분이 생각하는 이메일 주소의 **규칙**을 적고, 그에 대한 정규 표현식을 만들어 보세요.\n",
        "> 예시) 이메일 주소는 id@domain와 같이 이루어져 있음 <br>\n",
        "> * 규칙1. id는 길이가 10이하여야 하고, 문자(대문자, 소문자), 숫자, _로만 이루어져야 함 <br>\n",
        "> * 규칙2. domin은 naver.com, inu.ac.kr, cse.inu.ac.kr과 같이 .을 단위로 2개~4개까지 이루어질 수 있음 <br>\n",
        "#### **[유의사항] 여러분만의 이메일 주소 '규칙1~규칙N'을 작성하여 제출 바랍니다. (위에 작성된 것은 참고용 예시임)**\n",
        "2. 규칙을 만족하는/만족하지 않는 테스트 **예시 문장**을 만들고, **예상 결과**와 같이 잘 동작하는지 확인해 보세요.\n",
        "> 예시) <br>\n",
        "> 예시 문장) text = '홍길동(gildong2da@inu.ac.kr), 나학생(i_am_a_student@naver.com)' <br>\n",
        "> 예상 결과) ['gildong2da@inu.ac.kr', 'i_am_a_student@naver.com']\n",
        "#### **[유의사항] 여러분만의 '예시 문장'과 '예상 결과'를 작성하여 제출 바랍니다. (위에 작성된 것은 참고용 예시임)**\n",
        "3. 위의 1, 2를 이용하여 코드를 작성하세요.\n",
        "> 위의 숫자를 찾는 코드를 참고하여 작성하면 도움이 될 겁니다.\n",
        "```\n",
        "import re\n",
        "text = \"안녕하세요, 1234는 숫자이고 5678도 숫자입니다.\"\n",
        "pattern = re.compile(r'\\d+')\n",
        "numbers = pattern.findall(text)\n",
        "print(numbers)  # ['1234', '5678']\n",
        "```\n",
        "\n",
        "\n",
        "\n",
        "\n"
      ],
      "metadata": {
        "id": "Dxt1PUGd2FTe"
      }
    },
    {
      "cell_type": "markdown",
      "source": [
        "규칙1. ID는 길이가 12이하여야 하고 영어 대소문자와 숫자,\n",
        " _만 포함\n",
        "\n",
        "규칙2. \"@\" 기호가 입력되어야함.\n",
        "\n",
        "규칙3. 도메인 이름은 영문자나 숫자로 이루어져야함.\n",
        "\n",
        "규칙4. 도메인 이름은 최소 하나의 .을 포함해야함."
      ],
      "metadata": {
        "id": "eUARp5kUULi1"
      }
    },
    {
      "cell_type": "code",
      "source": [
        "import re\n",
        "\n",
        "text = \"김진원(a01020532509@gmail.com), 나학생(i_student@inu.ac.kr), 김진영(kjy@cse.inu.ac.kr), 박수민(psm@navercom)\"\n",
        "pattern = re.compile(r'\\b\\w{1,12}@[a-zA-Z0-9]+\\.[a-zA-Z]{2,}(?:\\.[a-zA-Z]{2,})*\\b')\n",
        "email = re.findall(pattern, text)\n",
        "#예상 결과 ['a01020532509@gmail.com', 'i_student@inu.ac.kr', 'kjy@cse.inu.ac.kr']\n",
        "print(email)"
      ],
      "metadata": {
        "id": "o93JKgxs7yMv",
        "colab": {
          "base_uri": "https://localhost:8080/"
        },
        "outputId": "f347bb22-f82b-48f8-9392-c3c81edcec3d"
      },
      "execution_count": 12,
      "outputs": [
        {
          "output_type": "stream",
          "name": "stdout",
          "text": [
            "['a01020532509@gmail.com', 'i_student@inu.ac.kr', 'kjy@cse.inu.ac.kr']\n"
          ]
        }
      ]
    },
    {
      "cell_type": "markdown",
      "source": [
        "## 5주차 수업 내용 리뷰 & 정규 표현식 마무리 -끝-"
      ],
      "metadata": {
        "id": "jzMl_Afb1vJ9"
      }
    },
    {
      "cell_type": "markdown",
      "source": [
        "---"
      ],
      "metadata": {
        "id": "eAyiNA3YB9VO"
      }
    },
    {
      "cell_type": "markdown",
      "metadata": {
        "id": "jNgIfKg8zWcL"
      },
      "source": [
        "## 6.2 PCA를 이용한 차원 축소\n",
        "\n"
      ]
    },
    {
      "cell_type": "markdown",
      "source": [
        "데이터 셋 준비 (우리에게 익숙한 20newsgroups)"
      ],
      "metadata": {
        "id": "gCb5DPXUGaak"
      }
    },
    {
      "cell_type": "code",
      "execution_count": 13,
      "metadata": {
        "id": "SWco5iOPzWcM"
      },
      "outputs": [],
      "source": [
        "from sklearn.datasets import fetch_20newsgroups\n",
        "\n",
        "#20개의 토픽 중 선택하고자 하는 토픽을 리스트로 생성\n",
        "categories = ['alt.atheism', 'talk.religion.misc', 'comp.graphics', 'sci.space']\n",
        "\n",
        "#학습 데이터셋을 가져옴\n",
        "#메일 내용에서 hint가 되는 부분을 삭제 - 순수하게 내용만으로 분류\n",
        "newsgroups_train = fetch_20newsgroups(subset='train',\n",
        "                                      remove=('headers', 'footers', 'quotes'),\n",
        "                                      categories=categories)\n",
        "#검증 데이터셋을 가져옴\n",
        "newsgroups_test = fetch_20newsgroups(subset='test',\n",
        "                                     remove=('headers', 'footers', 'quotes'),\n",
        "                                     categories=categories)\n",
        "\n",
        "X_train = newsgroups_train.data   #학습 데이터셋\n",
        "y_train = newsgroups_train.target #학습 데이터셋\n",
        "\n",
        "X_test = newsgroups_test.data     #검증 데이터셋\n",
        "y_test = newsgroups_test.target   #검증 데이터셋"
      ]
    },
    {
      "cell_type": "markdown",
      "source": [
        "전처리\n",
        "* 토큰화, 불용어처리, 스테밍\n"
      ],
      "metadata": {
        "id": "d03KqvJwGe_k"
      }
    },
    {
      "cell_type": "code",
      "source": [
        "import nltk\n",
        "\n",
        "nltk.download('stopwords')"
      ],
      "metadata": {
        "id": "RJKk1hCjGYwT",
        "colab": {
          "base_uri": "https://localhost:8080/"
        },
        "outputId": "cbb81330-535c-4f98-81a3-e4f5898e87f0"
      },
      "execution_count": 14,
      "outputs": [
        {
          "output_type": "stream",
          "name": "stderr",
          "text": [
            "[nltk_data] Downloading package stopwords to /root/nltk_data...\n",
            "[nltk_data]   Unzipping corpora/stopwords.zip.\n"
          ]
        },
        {
          "output_type": "execute_result",
          "data": {
            "text/plain": [
              "True"
            ]
          },
          "metadata": {},
          "execution_count": 14
        }
      ]
    },
    {
      "cell_type": "code",
      "source": [
        "from nltk.tokenize import RegexpTokenizer\n",
        "from nltk.corpus import stopwords\n",
        "from nltk.stem.porter import PorterStemmer\n",
        "\n",
        "RegTok = RegexpTokenizer(\"[\\w']{3,}\") # 정규포현식으로 토크나이저를 정의\n",
        "english_stops = set(stopwords.words('english')) #영어 불용어를 가져옴\n",
        "stemmer = PorterStemmer() # 스테머로 포터스테머 사용\n",
        "\n",
        "def my_tokenizer(text):\n",
        "    tokens = RegTok.tokenize(text)\n",
        "    # stopwords 제외\n",
        "    words = [word for word in tokens if word not in english_stops]\n",
        "    # portr stemmer 적용\n",
        "    features = [stemmer.stem(token) for token in words]\n",
        "    return features"
      ],
      "metadata": {
        "id": "SmkiLmtOGUEj"
      },
      "execution_count": 15,
      "outputs": []
    },
    {
      "cell_type": "code",
      "source": [
        "# 약간의 시간(약 30초)이 소요됩니다.\n",
        "from sklearn.feature_extraction.text import TfidfVectorizer\n",
        "\n",
        "#tfidf = TfidfVectorizer(tokenizer=my_tokenizer, max_features=2000, min_df=5, max_df=0.5)\n",
        "# 토큰화 외에 아무것도 적용하지 않은 채로 확인\n",
        "tfidf = TfidfVectorizer(tokenizer=my_tokenizer) ### ... 이 부분을 완성하시오\n",
        "X_train_tfidf = tfidf.fit_transform(X_train) # train set을 변환\n",
        "X_test_tfidf = tfidf.transform(X_test) # test set을 변환"
      ],
      "metadata": {
        "id": "vwcetq65SOa6",
        "colab": {
          "base_uri": "https://localhost:8080/"
        },
        "outputId": "a1a56a35-0e35-4ebf-e683-e5740a3fc11a"
      },
      "execution_count": 16,
      "outputs": [
        {
          "output_type": "stream",
          "name": "stderr",
          "text": [
            "/usr/local/lib/python3.10/dist-packages/sklearn/feature_extraction/text.py:528: UserWarning: The parameter 'token_pattern' will not be used since 'tokenizer' is not None'\n",
            "  warnings.warn(\n"
          ]
        }
      ]
    },
    {
      "cell_type": "code",
      "source": [
        "print('Original tfidf matrix shape:', X_train_tfidf.shape) ### ... 이 부분을 완성하시오"
      ],
      "metadata": {
        "id": "62cFIpxfIwO0",
        "colab": {
          "base_uri": "https://localhost:8080/"
        },
        "outputId": "7cbae7d7-90f4-4666-8ed3-f26a31a66387"
      },
      "execution_count": 17,
      "outputs": [
        {
          "output_type": "stream",
          "name": "stdout",
          "text": [
            "Original tfidf matrix shape: (2034, 20085)\n"
          ]
        }
      ]
    },
    {
      "cell_type": "markdown",
      "source": [
        "(방법 1) 차원 축소 방법을 적용하기 전의 Logistic Regression을 이용한 분류 성능 확인"
      ],
      "metadata": {
        "id": "9Zv8i3kEH9Lb"
      }
    },
    {
      "cell_type": "code",
      "execution_count": 18,
      "metadata": {
        "id": "ofJSNPVozWcN",
        "colab": {
          "base_uri": "https://localhost:8080/"
        },
        "outputId": "732f0fb5-d4ca-42f2-c6e4-e7cd6b9b6311"
      },
      "outputs": [
        {
          "output_type": "stream",
          "name": "stdout",
          "text": [
            "#Train set score: 0.962\n",
            "#Test set score: 0.761\n"
          ]
        }
      ],
      "source": [
        "from sklearn.linear_model import LogisticRegression\n",
        "\n",
        "LR_clf = LogisticRegression() #분류기 선언\n",
        "LR_clf.fit(X_train_tfidf, y_train) # train data를 이용하여 분류기를 학습\n",
        "print('#Train set score: {:.3f}'.format(LR_clf.score(X_train_tfidf, y_train)))\n",
        "print('#Test set score: {:.3f}'.format(LR_clf.score(X_test_tfidf, y_test)))"
      ]
    },
    {
      "cell_type": "markdown",
      "source": [
        "(방법 2) 차원 축소 방법을 적용한 후의 Logistic Regression을 이용한 분류 성능 확인\n",
        "* 차원 축소 방법인 PCA를 적용\n",
        "* 2000차원으로 축소한 뒤 Logistic Regression을 이용한 분류 성능 확인"
      ],
      "metadata": {
        "id": "Gfif_glrNKfd"
      }
    },
    {
      "cell_type": "markdown",
      "metadata": {
        "id": "i8h8xrw9zWcN"
      },
      "source": [
        "https://scikit-learn.org/stable/modules/generated/sklearn.decomposition.PCA.html"
      ]
    },
    {
      "cell_type": "markdown",
      "source": [
        "explained_variance_ratio_\n",
        "- Percentage of variance explained by each of the selected components.\n",
        "- If n_components is not set then all components are stored and the sum of the ratios is equal to 1.0.\n",
        "- 각각의 새로운 축에 대해, 축소 전 분산에 대한 비율\n",
        "- 만일 새로운 축들이 원래의 분산을 모두 설명해준다면 explained_variance_ratio_의 합은 1이 될 것임"
      ],
      "metadata": {
        "id": "-m5dR3cbI04Z"
      }
    },
    {
      "cell_type": "code",
      "execution_count": 19,
      "metadata": {
        "id": "3C-uLYPbzWcO",
        "colab": {
          "base_uri": "https://localhost:8080/"
        },
        "outputId": "7caea709-fe70-4b03-cfa6-3bb9a0b5622c"
      },
      "outputs": [
        {
          "output_type": "stream",
          "name": "stdout",
          "text": [
            "Original tfidf matrix shape: (2034, 20085)\n",
            "PCA Converted matrix shape: (2034, 2000)\n",
            "Sum of explained variance ratio: 1.000\n"
          ]
        }
      ],
      "source": [
        "# 약간의 시간(약 30초)이 소요됩니다.\n",
        "from sklearn.decomposition import PCA\n",
        "\n",
        "#  20,085 차원을 2,000 차원으로 축소\n",
        "pca = PCA(n_components=2000, random_state=7) ### ... 이 부분을 완성하시오\n",
        "X_train_pca = pca.fit_transform(X_train_tfidf.toarray())\n",
        "X_test_pca = pca.transform(X_test_tfidf.toarray())\n",
        "\n",
        "print('Original tfidf matrix shape:', X_train_tfidf.shape)\n",
        "print('PCA Converted matrix shape:', X_train_pca.shape)\n",
        "print('Sum of explained variance ratio: {:.3f}'.format(pca.explained_variance_ratio_.sum())) ### ... 이 부분을 완성하시오"
      ]
    },
    {
      "cell_type": "code",
      "execution_count": 20,
      "metadata": {
        "id": "5oW4iq1IzWcO",
        "colab": {
          "base_uri": "https://localhost:8080/"
        },
        "outputId": "9c43fa4d-db52-4bda-b316-ebce388b3df5"
      },
      "outputs": [
        {
          "output_type": "stream",
          "name": "stdout",
          "text": [
            "#Train set score: 0.962\n",
            "#Test set score: 0.761\n"
          ]
        }
      ],
      "source": [
        "# PCA로 차원 축소된 X 데이터 이용\n",
        "LR_clf.fit(X_train_pca, y_train) ### ... 이 부분을 완성하시오\n",
        "print('#Train set score: {:.3f}'.format(LR_clf.score(X_train_pca, y_train))) ### ... 이 부분을 완성하시오\n",
        "print('#Test set score: {:.3f}'.format(LR_clf.score(X_test_pca, y_test))) ### ... 이 부분을 완성하시오"
      ]
    },
    {
      "cell_type": "markdown",
      "source": [
        "(방법 3) 특성 선택 방식인 라쏘 회귀를 이용\n",
        "* lasso_clf = LogisticRegression(penalty='l1', solver='liblinear', C=1)\n",
        "* 차원을 축소"
      ],
      "metadata": {
        "id": "_EpP6b_BLEcF"
      }
    },
    {
      "cell_type": "code",
      "execution_count": 21,
      "metadata": {
        "id": "2NLdjV-ZzWcO",
        "colab": {
          "base_uri": "https://localhost:8080/"
        },
        "outputId": "e2a2294a-1f88-49cd-e3b3-9869a25fa816"
      },
      "outputs": [
        {
          "output_type": "stream",
          "name": "stdout",
          "text": [
            "#Train set score: 0.790\n",
            "#Test set score: 0.718\n",
            "#Used features count: 321 out of 20085\n"
          ]
        }
      ],
      "source": [
        "lasso_clf = LogisticRegression(penalty='l1', solver='liblinear', C=1)\n",
        "lasso_clf.fit(X_train_tfidf, y_train)\n",
        "\n",
        "print('#Train set score: {:.3f}'.format(lasso_clf.score(X_train_tfidf, y_train)))\n",
        "print('#Test set score: {:.3f}'.format(lasso_clf.score(X_test_tfidf, y_test)))\n",
        "\n",
        "import numpy as np\n",
        "# 계수(coefficient) 중에서 0이 아닌 것들의 개수를 출력\n",
        "print('#Used features count: {}'.format(np.sum(lasso_clf.coef_ != 0)), 'out of', X_train_tfidf.shape[1])"
      ]
    },
    {
      "cell_type": "markdown",
      "source": [
        "(방법 4) 특성 추출 추출 방식인 PCA를 이용\n",
        "- 차원의 수를 322개로 축소\n",
        "- pca = PCA(n_components=322, random_state=7)\n"
      ],
      "metadata": {
        "id": "QECbJup6MxJL"
      }
    },
    {
      "cell_type": "code",
      "execution_count": 22,
      "metadata": {
        "id": "B28LMdm2zWcO",
        "colab": {
          "base_uri": "https://localhost:8080/"
        },
        "outputId": "fe689970-2f99-48da-cb93-727c2b788fa4"
      },
      "outputs": [
        {
          "output_type": "stream",
          "name": "stdout",
          "text": [
            "PCA Converted X shape: (2034, 322)\n",
            "Sum of explained variance ratio: 0.438\n",
            "#Train set score: 0.870\n",
            "#Test set score: 0.747\n"
          ]
        }
      ],
      "source": [
        "# 약간의 시간(약 30초)이 소요됩니다.\n",
        "pca = PCA(n_components=322, random_state=7) ### ... 이 부분을 완성하시오\n",
        "\n",
        "X_train_pca = pca.fit_transform(X_train_tfidf.toarray()) ### ... 이 부분을 완성하시오\n",
        "X_test_pca = pca.transform(X_test_tfidf.toarray()) ### ... 이 부분을 완성하시오\n",
        "\n",
        "# 322차원으로 줄어든 것을 확인\n",
        "print('PCA Converted X shape:', X_train_pca.shape) ### ... 이 부분을 완성하시오\n",
        "print('Sum of explained variance ratio: {:.3f}'.format(pca.explained_variance_ratio_.sum()))  ### ... 이 부분을 완성하시오, 분산이 사라짐 절반 가량\n",
        "# 2,000개에 비해 정보량이 절반 이하로 줄어들었음\n",
        "\n",
        "LR_clf.fit(X_train_pca, y_train)  # 322차원으로 줄어든 것을 확인\n",
        "print('#Train set score: {:.3f}'.format(LR_clf.score(X_train_pca, y_train)))  ### ... 이 부분을 완성하시오\n",
        "print('#Test set score: {:.3f}'.format(LR_clf.score(X_test_pca, y_test))) ### ... 이 부분을 완성하시오\n",
        "# 라쏘 회귀분석(0.718)을 이용한 특성 선택보다 더 좋은 성능을 보임"
      ]
    },
    {
      "cell_type": "markdown",
      "source": [
        "(방법 5) 그러면 322개보다 더 줄여서 100개만 이용해보자.\n",
        "- 여전히 라쏘 회귀분석보다 좋은지 확인\n"
      ],
      "metadata": {
        "id": "OnYKkRBHMl6Q"
      }
    },
    {
      "cell_type": "code",
      "execution_count": 23,
      "metadata": {
        "id": "xBXkNpbCzWcP",
        "colab": {
          "base_uri": "https://localhost:8080/"
        },
        "outputId": "7085f077-7bd0-44ad-e972-7dbfda31a686"
      },
      "outputs": [
        {
          "output_type": "stream",
          "name": "stdout",
          "text": [
            "PCA Converted X shape: (2034, 100)\n",
            "Sum of explained variance ratio: 0.211\n",
            "#Train set score: 0.807\n",
            "#Test set score: 0.738\n"
          ]
        }
      ],
      "source": [
        "# 약간의 시간(약 30초)이 소요됩니다.\n",
        "pca = PCA(n_components=100, random_state=7)\n",
        "\n",
        "X_train_pca = pca.fit_transform(X_train_tfidf.toarray())\n",
        "X_test_pca = pca.transform(X_test_tfidf.toarray())\n",
        "print('PCA Converted X shape:', X_train_pca.shape)\n",
        "print('Sum of explained variance ratio: {:.3f}'.format(pca.explained_variance_ratio_.sum()))\n",
        "\n",
        "LR_clf.fit(X_train_pca, y_train)\n",
        "print('#Train set score: {:.3f}'.format(LR_clf.score(X_train_pca, y_train)))\n",
        "print('#Test set score: {:.3f}'.format(LR_clf.score(X_test_pca, y_test)))\n",
        "# 라쏘 회귀분석(0.718)을 이용한 특성 선택보다 더 좋은 성능을 보임"
      ]
    },
    {
      "cell_type": "markdown",
      "source": [
        "# [[실습 6-2-2]] 방법 1 ~ 방법 5의 Test set score를 비교하고, 어떤 방법이 가장 좋은지 결론을 내리시오.\n",
        "> (가능한 경우에만 작성) 수업 중 설명된 내용을 종합하여 방법 1 ~ 방법 5를 비교 설명해보시오.\n",
        "\n",
        "- 방법 1의 Test set score: 0.000 (복붙)\n",
        "- 방법 2의 Test set score: 0.000 (복붙)\n",
        "- 방법 3의 Test set score: 0.000 (복붙)\n",
        "- 방법 4의 Test set score: 0.000 (복붙)\n",
        "- 방법 5의 Test set score: 0.000 (복붙)\n",
        "\n",
        "비교 결과 작성: ...\n",
        "> (예시) 0.000 (방법 0) > 0.000 (방법 0) > 0.000 (방법 0) > 0.000 (방법 0) > 0.000 (방법 0). 따라서 방법 0이 가장 좋다."
      ],
      "metadata": {
        "id": "TctTtgF52BxA"
      }
    },
    {
      "cell_type": "markdown",
      "source": [
        "#방법 1의 Test set score: 0.761\n",
        "\n",
        "Logistic Regression을 사용한 방법\n",
        "\n",
        "#방법 2의 Test set score: 0.761\n",
        "\n",
        "차원 축소 방법을 적용한 후의 Logistic Regression을 이용한 방법, 2000개의 차원을 사용\n",
        "\n",
        "#방법 3의 Test set score: 0.718\n",
        "\n",
        "특성 선택 방식인 라쏘 회귀를 이용한 방법\n",
        "\n",
        "#방법 4의 Test set score: 0.747\n",
        "\n",
        "특성 추출 추출 방식인 PCA를 이용, 322개의 차원을 사용\n",
        "\n",
        "#방법 5의 #Test set score: 0.738\n",
        "\n",
        "위에 방법에서 차원을 322 -> 100개로 줄임\n",
        "\n",
        "##0.761(방법 1) = 0.761(방법 2) > 0.747(방법 4) > 0.738(방법 5) > 0.718(방법 3)\n",
        "\n",
        "방법 1과 2는 똑같은 로지스틱 회귀를 이용하였지만 2번의 방법은 PCA를 적용하여 차원을 2000개로 두고 로지스틱 회귀를 이용한 분류를 진행하였다. 하지만 성능 면에서는 동일한 점수를 기록하였으며 라쏘회귀를 이용한 3번의 방법은 가장 낮은 성능 점수를 기록했다. 그리고 PCA를 사용하여 차원을 각각 322개, 100개로 축소한 4,5번의 방법은 라쏘회귀 방식보다는 좋은 성능을 기록하였지만 로지스틱 회귀를 이용하였을 때 보다 낮은 성능을 기록했다.\n",
        "\n",
        "###점수를 비교해 보았을 때 방법 1과 2가 가장 좋다."
      ],
      "metadata": {
        "id": "vpyBCTOlOJjJ"
      }
    },
    {
      "cell_type": "markdown",
      "source": [
        "# [파일] -> [다운로드] -> [.ipynb 다운로드]\n",
        "# 제출 후 **구글 계정 로그아웃** 잘 하시기 바랍니다."
      ],
      "metadata": {
        "id": "iWmyIF9717_u"
      }
    }
  ],
  "metadata": {
    "kernelspec": {
      "display_name": "Python 3 (ipykernel)",
      "language": "python",
      "name": "python3"
    },
    "language_info": {
      "codemirror_mode": {
        "name": "ipython",
        "version": 3
      },
      "file_extension": ".py",
      "mimetype": "text/x-python",
      "name": "python",
      "nbconvert_exporter": "python",
      "pygments_lexer": "ipython3",
      "version": "3.8.0"
    },
    "toc": {
      "base_numbering": 1,
      "nav_menu": {},
      "number_sections": true,
      "sideBar": true,
      "skip_h1_title": false,
      "title_cell": "Table of Contents",
      "title_sidebar": "Contents",
      "toc_cell": true,
      "toc_position": {
        "height": "calc(100% - 180px)",
        "left": "10px",
        "top": "150px",
        "width": "165px"
      },
      "toc_section_display": true,
      "toc_window_display": false
    },
    "varInspector": {
      "cols": {
        "lenName": 16,
        "lenType": 16,
        "lenVar": 40
      },
      "kernels_config": {
        "python": {
          "delete_cmd_postfix": "",
          "delete_cmd_prefix": "del ",
          "library": "var_list.py",
          "varRefreshCmd": "print(var_dic_list())"
        },
        "r": {
          "delete_cmd_postfix": ") ",
          "delete_cmd_prefix": "rm(",
          "library": "var_list.r",
          "varRefreshCmd": "cat(var_dic_list()) "
        }
      },
      "types_to_exclude": [
        "module",
        "function",
        "builtin_function_or_method",
        "instance",
        "_Feature"
      ],
      "window_display": false
    },
    "colab": {
      "provenance": []
    }
  },
  "nbformat": 4,
  "nbformat_minor": 0
}