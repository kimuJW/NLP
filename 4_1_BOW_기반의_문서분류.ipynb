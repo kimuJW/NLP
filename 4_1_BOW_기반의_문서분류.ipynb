{
  "cells": [
    {
      "cell_type": "markdown",
      "metadata": {
        "id": "nHfGVfbWNjeP"
      },
      "source": [
        "# [자연어처리]\n",
        "# 4주차(4-1). BOW 기반의 문서 분류(2)\n"
      ]
    },
    {
      "cell_type": "markdown",
      "source": [
        "# 201801544 김진원\n",
        "* **모든 셀 실행** 후 제출하시기 바랍니다.\n",
        "* **실습 (4-1-1)**이 있습니다."
      ],
      "metadata": {
        "id": "PIFXgbQbODsk"
      }
    },
    {
      "cell_type": "markdown",
      "source": [
        "# 이제 Colab 사용에 모든 수강생분들이 어느정도 익숙해 졌을 거라 생각됩니다!\n",
        "* (벌써 4주차 입니다. 시간 빠르죠?)\n",
        "* **키보드**(+마우스)를 조금 더 사용해보도록 하겠습니다.\n",
        "> ##### 1. **주석을 해제**하거나\n",
        "> ##### 2. 다시 **따라 쳐보면서** 실습을 진행해 봅시다. (V)\n",
        "> ##### 중간 중간 **'# ... 이 부분을 완성하시오'** 라는 부분의 코드를 완성해야 합니다.\n",
        "\n",
        "\n",
        "\n"
      ],
      "metadata": {
        "id": "YRzfXnBSOF-1"
      }
    },
    {
      "cell_type": "markdown",
      "metadata": {
        "id": "CBbDC3bnNjeR"
      },
      "source": [
        "## 3-2. 수업 내용 리뷰 시작\n",
        "## 20 뉴스그룹 데이터 준비 및 특성 추출\n",
        "\n",
        " http://scikit-learn.org/0.19/datasets/twenty_newsgroups.html"
      ]
    },
    {
      "cell_type": "code",
      "execution_count": 33,
      "metadata": {
        "id": "gv5QjuQINjeR",
        "colab": {
          "base_uri": "https://localhost:8080/"
        },
        "outputId": "fc1e522e-7441-4bcc-ed11-e0410ff196f2"
      },
      "outputs": [
        {
          "output_type": "stream",
          "name": "stdout",
          "text": [
            "#Train set size: 2034\n",
            "#Test set size: 1353\n",
            "#Selected categories: ['alt.atheism', 'comp.graphics', 'sci.space', 'talk.religion.misc']\n",
            "#Train labels: {0, 1, 2, 3}\n"
          ]
        }
      ],
      "source": [
        "from sklearn.datasets import fetch_20newsgroups\n",
        "# 20개의 토픽 중 선택하고자 하는 토픽을 리스트로 생성\n",
        "\n",
        "categories = ['alt.atheism', 'talk.religion.misc', 'comp.graphics', 'sci.space']\n",
        "\n",
        "# 학습 데이터셋을 가져옴\n",
        "# 메일 내용에서 hint가 되는 부분을 삭제 - 순수하게 내용만으로 분류\n",
        "newsgroups_train = fetch_20newsgroups(subset='train', remove=('headers', 'footers', 'quotes'),categories=categories) # ... 이 부분을 완성하시오\n",
        "\n",
        "# 테스트 데이터셋을 가져옴\n",
        "newsgroups_test = fetch_20newsgroups(subset='test', remove=('headers', 'footers', 'quotes'),categories=categories) # ... 이 부분을 완성하시오\n",
        "\n",
        "print('#Train set size:', len(newsgroups_train.data))\n",
        "print('#Test set size:', len(newsgroups_test.data))\n",
        "print('#Selected categories:', newsgroups_train.target_names)\n",
        "print('#Train labels:', set(newsgroups_train.target))"
      ]
    },
    {
      "cell_type": "code",
      "execution_count": 34,
      "metadata": {
        "id": "EzgV07RRNjeT"
      },
      "outputs": [],
      "source": [
        "X_train = newsgroups_train.data   # 학습 데이터셋 문서\n",
        "y_train = newsgroups_train.target # 학습 데이터셋 레이블\n",
        "\n",
        "X_test = newsgroups_test.data     # 테스트 데이터셋 문서\n",
        "y_test = newsgroups_test.target   # 테스트 데이터셋 레이블"
      ]
    },
    {
      "cell_type": "code",
      "execution_count": 35,
      "metadata": {
        "id": "9XAX4K7dNjeV"
      },
      "outputs": [],
      "source": [
        "from sklearn.feature_extraction.text import TfidfVectorizer\n",
        "\n",
        "# TF-IDF 방식 / feature의 개수는 2000개를 사용\n",
        "tfidf = TfidfVectorizer(max_features=2000, min_df=5, max_df=0.5) # ... 이 부분을 완성하시오\n",
        "\n",
        "# train set을 변환\n",
        "X_train_tfidf = tfidf.fit_transform(X_train)  # ... 이 부분을 완성하시오\n",
        "# test set을 변환\n",
        "X_test_tfidf = tfidf.transform(X_test)  # ... 이 부분을 완성하시오"
      ]
    },
    {
      "cell_type": "code",
      "source": [
        "# sklearn이 제공하는 MultinomialNB 를 사용\n",
        "from sklearn.naive_bayes import MultinomialNB\n",
        "\n",
        "# 분류기 선언\n",
        "NB_clf = MultinomialNB()  # ... 이 부분을 완성하시오\n",
        "# tfidf train set을 이용하여 분류기(classifier)를 새로 학습\n",
        "NB_clf.fit(X_train_tfidf, y_train)  # ... 이 부분을 완성하시오\n",
        "\n",
        "print('Train set score: {:.3f}'.format(NB_clf.score(X_train_tfidf, y_train))) # train set에 대한 예측정확도를 확인\n",
        "print('Test set score: {:.3f}'.format(NB_clf.score(X_test_tfidf, y_test))) # test set에 대한 예측정확도를 확인"
      ],
      "metadata": {
        "id": "NYsj14zqP4um",
        "colab": {
          "base_uri": "https://localhost:8080/"
        },
        "outputId": "06e26eff-ae87-47b4-b342-c930ae92e824"
      },
      "execution_count": 36,
      "outputs": [
        {
          "output_type": "stream",
          "name": "stdout",
          "text": [
            "Train set score: 0.862\n",
            "Test set score: 0.741\n"
          ]
        }
      ]
    },
    {
      "cell_type": "markdown",
      "source": [
        "# 3-2. 수업 내용 리뷰 끝\n",
        "---\n",
        "# 4-1. 수업 내용 시작\n",
        "\n"
      ],
      "metadata": {
        "id": "yt_CkwWWQYAS"
      }
    },
    {
      "cell_type": "markdown",
      "metadata": {
        "id": "AwQLvHnJNjeV"
      },
      "source": [
        "## 4. 로지스틱 회귀분석을 이용한 문서 분류\n",
        "\n",
        "1: http://scikit-learn.org/stable/modules/generated/sklearn.linear_model.LogisticRegression.html"
      ]
    },
    {
      "cell_type": "code",
      "source": [
        "from sklearn.datasets import load_iris\n",
        "from sklearn.linear_model import LogisticRegression\n",
        "X, y = load_iris(return_X_y=True)\n",
        "clf = LogisticRegression(random_state=0).fit(X, y)\n",
        "clf.predict(X[:2, :])\n",
        "clf.predict_proba(X[:2, :])\n",
        "clf.score(X, y)"
      ],
      "metadata": {
        "colab": {
          "base_uri": "https://localhost:8080/"
        },
        "id": "vR2-Jy8_Esr9",
        "outputId": "e53ba0fa-384b-4952-a395-d13ee967e486"
      },
      "execution_count": 37,
      "outputs": [
        {
          "output_type": "stream",
          "name": "stderr",
          "text": [
            "/usr/local/lib/python3.10/dist-packages/sklearn/linear_model/_logistic.py:458: ConvergenceWarning: lbfgs failed to converge (status=1):\n",
            "STOP: TOTAL NO. of ITERATIONS REACHED LIMIT.\n",
            "\n",
            "Increase the number of iterations (max_iter) or scale the data as shown in:\n",
            "    https://scikit-learn.org/stable/modules/preprocessing.html\n",
            "Please also refer to the documentation for alternative solver options:\n",
            "    https://scikit-learn.org/stable/modules/linear_model.html#logistic-regression\n",
            "  n_iter_i = _check_optimize_result(\n"
          ]
        },
        {
          "output_type": "execute_result",
          "data": {
            "text/plain": [
              "0.9733333333333334"
            ]
          },
          "metadata": {},
          "execution_count": 37
        }
      ]
    },
    {
      "cell_type": "code",
      "execution_count": 38,
      "metadata": {
        "id": "AQYKJLDpNjeV",
        "colab": {
          "base_uri": "https://localhost:8080/"
        },
        "outputId": "fcffe6af-ceae-490a-ce42-6d723949377f"
      },
      "outputs": [
        {
          "output_type": "stream",
          "name": "stdout",
          "text": [
            "Train set score: 0.930\n",
            "Test set score: 0.734\n"
          ]
        }
      ],
      "source": [
        "# sklearn이 제공하는 LogisticRegression을 사용\n",
        "from sklearn.linear_model import LogisticRegression\n",
        "\n",
        "# count vector에 대해 regression을 해서 NB와 비교\n",
        "LR_clf = LogisticRegression() # 분류기 선언\n",
        "LR_clf.fit(X_train_tfidf, y_train) # train data를 이용하여 분류기를 학습\n",
        "LR_clf.score(X_train_tfidf, y_train)\n",
        "\n",
        "print('Train set score: {:.3f}'.format(LR_clf.score(X_train_tfidf, y_train))) # train data에 대한 예측정확도\n",
        "print('Test set score: {:.3f}'.format(LR_clf.score(X_test_tfidf, y_test))) # test data에 대한 예측정확도"
      ]
    },
    {
      "cell_type": "code",
      "source": [
        "LR_clf.coef_"
      ],
      "metadata": {
        "id": "UjJmcZN1xYBi",
        "colab": {
          "base_uri": "https://localhost:8080/"
        },
        "outputId": "5dcd406d-12c9-4823-dba6-7dbe864305b7"
      },
      "execution_count": 39,
      "outputs": [
        {
          "output_type": "execute_result",
          "data": {
            "text/plain": [
              "array([[-0.29006795,  0.17889691, -0.19347233, ..., -0.4098512 ,\n",
              "        -0.08720668, -0.11829089],\n",
              "       [ 0.41971947, -0.15813167,  0.52840436, ..., -0.13105739,\n",
              "        -0.05545029,  0.27214755],\n",
              "       [ 0.10885394,  0.1077093 , -0.18031841, ..., -0.27200652,\n",
              "         0.10836122, -0.07062918],\n",
              "       [-0.23850546, -0.12847455, -0.15461362, ...,  0.81291511,\n",
              "         0.03429575, -0.08322748]])"
            ]
          },
          "metadata": {},
          "execution_count": 39
        }
      ]
    },
    {
      "cell_type": "code",
      "source": [
        "len(-LR_clf.coef_[0])"
      ],
      "metadata": {
        "id": "fR_zw4KjT6c4",
        "colab": {
          "base_uri": "https://localhost:8080/"
        },
        "outputId": "f04ba939-6a28-4642-b91d-e80e94741e0c"
      },
      "execution_count": 40,
      "outputs": [
        {
          "output_type": "execute_result",
          "data": {
            "text/plain": [
              "2000"
            ]
          },
          "metadata": {},
          "execution_count": 40
        }
      ]
    },
    {
      "cell_type": "code",
      "source": [
        "np.argsort(-LR_clf.coef_[0])"
      ],
      "metadata": {
        "colab": {
          "base_uri": "https://localhost:8080/"
        },
        "id": "eeJD8oyfHYS9",
        "outputId": "f8421845-ec99-4342-b6a6-4d73a2a1c4a6"
      },
      "execution_count": 41,
      "outputs": [
        {
          "output_type": "execute_result",
          "data": {
            "text/plain": [
              "array([ 214, 1486,  281, ..., 1087, 1256, 1659])"
            ]
          },
          "metadata": {},
          "execution_count": 41
        }
      ]
    },
    {
      "cell_type": "code",
      "source": [
        "import numpy as np\n",
        "\n",
        "top10= np.argsort(-LR_clf.coef_[0])[:10]\n",
        "top10"
      ],
      "metadata": {
        "id": "Qacdr0MlwZ5y",
        "colab": {
          "base_uri": "https://localhost:8080/"
        },
        "outputId": "c265bfdb-bc22-4bee-ca79-1b04e7cc1c31"
      },
      "execution_count": 42,
      "outputs": [
        {
          "output_type": "execute_result",
          "data": {
            "text/plain": [
              "array([ 214, 1486,  281,  216,  913,  914,  498,  215, 1153, 1424])"
            ]
          },
          "metadata": {},
          "execution_count": 42
        }
      ]
    },
    {
      "cell_type": "code",
      "source": [
        "# 4개의 카테고리로 늘린다면?\n",
        "categories = newsgroups_train.target_names\n",
        "for i, category in enumerate(categories):\n",
        "  top10 = np.argsort(-LR_clf.coef_[i])[:10]\n",
        "  print(category, top10)"
      ],
      "metadata": {
        "id": "6_oqIHYQxh75",
        "colab": {
          "base_uri": "https://localhost:8080/"
        },
        "outputId": "96040043-cec9-48f9-8671-cb442d291fca"
      },
      "execution_count": 43,
      "outputs": [
        {
          "output_type": "stream",
          "name": "stdout",
          "text": [
            "alt.atheism [ 214 1486  281  216  913  914  498  215 1153 1424]\n",
            "comp.graphics [ 776  866  682  402   48  683  823 1033 1345  374]\n",
            "sci.space [1659 1172 1251  976 1142 1660 1612  570 1046  695]\n",
            "talk.religion.misc [ 356  358  923  765  670 1215 1256  830  808  278]\n"
          ]
        }
      ]
    },
    {
      "cell_type": "code",
      "source": [
        "# get_feature_names_out()을 이용하여, feature로 사용된 단어를 가져온다면?\n",
        "# ... 이 부분을 완성하시오 (전체 코드 작성)\n",
        "feature_names = tfidf.get_feature_names_out()\n",
        "\n",
        "categories = newsgroups_train.target_names\n",
        "for i, category in enumerate(categories):\n",
        "  top10 = np.argsort(-LR_clf.coef_[i])[:10]\n",
        "  for t10 in top10:\n",
        "    print(category, feature_names[t10], -LR_clf.coef_[i][t10])"
      ],
      "metadata": {
        "id": "HfwLTbBoxpRb",
        "colab": {
          "base_uri": "https://localhost:8080/"
        },
        "outputId": "ce3d86b4-dad2-4524-b867-a41b0824b1af"
      },
      "execution_count": 44,
      "outputs": [
        {
          "output_type": "stream",
          "name": "stdout",
          "text": [
            "alt.atheism atheism -1.9271572105637025\n",
            "alt.atheism religion -1.7883083820415806\n",
            "alt.atheism bobby -1.7125439607353627\n",
            "alt.atheism atheists -1.607440719425755\n",
            "alt.atheism islam -1.5431861049957143\n",
            "alt.atheism islamic -1.3272006887040395\n",
            "alt.atheism deletion -1.3132464987573003\n",
            "alt.atheism atheist -1.275956128350012\n",
            "alt.atheism motto -1.1981210256793349\n",
            "alt.atheism punishment -1.1750045853450275\n",
            "comp.graphics graphics -3.394586981478147\n",
            "comp.graphics image -2.244408426718166\n",
            "comp.graphics file -2.0723853360233124\n",
            "comp.graphics computer -1.8851287331049897\n",
            "comp.graphics 3d -1.856267977210757\n",
            "comp.graphics files -1.7003826581687105\n",
            "comp.graphics hi -1.5812268147236146\n",
            "comp.graphics looking -1.4031456901927999\n",
            "comp.graphics points -1.3926060828797573\n",
            "comp.graphics code -1.3526118650802066\n",
            "sci.space space -4.635176130371893\n",
            "sci.space nasa -2.072639212962214\n",
            "sci.space orbit -1.9634727483486216\n",
            "sci.space launch -1.6515920698428153\n",
            "sci.space moon -1.5778454630258478\n",
            "sci.space spacecraft -1.4251632398932008\n",
            "sci.space shuttle -1.362332852275034\n",
            "sci.space earth -1.3046014945754374\n",
            "sci.space lunar -1.2499349631349594\n",
            "sci.space flight -1.1926271482790913\n",
            "talk.religion.misc christian -2.056555883400309\n",
            "talk.religion.misc christians -1.8507643404055338\n",
            "talk.religion.misc jesus -1.8114025658934974\n",
            "talk.religion.misc god -1.753595959712329\n",
            "talk.religion.misc fbi -1.526079925858964\n",
            "talk.religion.misc objective -1.5009542716870328\n",
            "talk.religion.misc order -1.43285077598039\n",
            "talk.religion.misc his -1.4070026054612736\n",
            "talk.religion.misc he -1.3802472303971391\n",
            "talk.religion.misc blood -1.3190330782828927\n"
          ]
        }
      ]
    },
    {
      "cell_type": "code",
      "execution_count": 45,
      "metadata": {
        "id": "bThLkVqgNjeV"
      },
      "outputs": [],
      "source": [
        "def top10_features(classifier, vectorizer, categories):\n",
        "    feature_names = np.asarray(vectorizer.get_feature_names_out())\n",
        "    for i, category in enumerate(categories):\n",
        "# 역순으로 정렬하기 위해 계수에 음수를 취해서 정렬 후 앞에서부터 10개의 값을 반환\n",
        "      top10 = np.argsort(-classifier.coef_[i])[:10]\n",
        "# 카테고리와 영향이 큰 특성 10개를 출력\n",
        "      print(\"%s: %s\" % (category, \", \".join(feature_names[top10])))"
      ]
    },
    {
      "cell_type": "code",
      "source": [
        "top10_features(LR_clf, tfidf, categories) # ... 이 부분을 완성하시오"
      ],
      "metadata": {
        "id": "8scVq-8DP9cR",
        "colab": {
          "base_uri": "https://localhost:8080/"
        },
        "outputId": "97d9e5ec-63c1-47b5-f349-9a486cf418e3"
      },
      "execution_count": 46,
      "outputs": [
        {
          "output_type": "stream",
          "name": "stdout",
          "text": [
            "alt.atheism: atheism, religion, bobby, atheists, islam, islamic, deletion, atheist, motto, punishment\n",
            "comp.graphics: graphics, image, file, computer, 3d, files, hi, looking, points, code\n",
            "sci.space: space, nasa, orbit, launch, moon, spacecraft, shuttle, earth, lunar, flight\n",
            "talk.religion.misc: christian, christians, jesus, god, fbi, objective, order, his, he, blood\n"
          ]
        }
      ]
    },
    {
      "cell_type": "markdown",
      "metadata": {
        "id": "4mbx79htNjeW"
      },
      "source": [
        "### 라쏘 회귀분석(lasso regression)을 이용한 특성 선택(feature selection)\n",
        "\n",
        "1. http://scikit-learn.org/stable/modules/generated/sklearn.linear_model.Lasso.html"
      ]
    },
    {
      "cell_type": "code",
      "execution_count": 47,
      "metadata": {
        "id": "PjRfXXc4NjeW",
        "colab": {
          "base_uri": "https://localhost:8080/"
        },
        "outputId": "3b009bfc-9639-4f73-81c0-84ab249cddb4"
      },
      "outputs": [
        {
          "output_type": "stream",
          "name": "stdout",
          "text": [
            "#Train set score: 0.819\n",
            "#Test set score: 0.724\n"
          ]
        }
      ],
      "source": [
        "lasso_clf = LogisticRegression(penalty='l1', solver='liblinear', C=1) # Lasso는 동일한 LogisticRegression을 사용하면서 매개변수로 지정\n",
        "lasso_clf.fit(X_train_tfidf, y_train) # train data로 학습\n",
        "\n",
        "print('#Train set score: {:.3f}'.format(lasso_clf.score(X_train_tfidf, y_train)))\n",
        "print('#Test set score: {:.3f}'.format(lasso_clf.score(X_test_tfidf, y_test)))"
      ]
    },
    {
      "cell_type": "code",
      "source": [
        "# 계수(coefficient) 중에서 0이 아닌 것들의 개수를 출력\n",
        "print('#Used features count: {}'.format(np.sum(lasso_clf.coef_ != 0)), 'out of', X_train_tfidf.shape[1])"
      ],
      "metadata": {
        "id": "gJHaGKj226yB",
        "colab": {
          "base_uri": "https://localhost:8080/"
        },
        "outputId": "09383ee0-4d9a-4816-b3ba-9dfb6864000b"
      },
      "execution_count": 48,
      "outputs": [
        {
          "output_type": "stream",
          "name": "stdout",
          "text": [
            "#Used features count: 437 out of 2000\n"
          ]
        }
      ]
    },
    {
      "cell_type": "code",
      "execution_count": 49,
      "metadata": {
        "id": "H7-bnHZ1NjeW",
        "colab": {
          "base_uri": "https://localhost:8080/"
        },
        "outputId": "00e5f904-3f97-4211-f55e-0e9c5e500412"
      },
      "outputs": [
        {
          "output_type": "stream",
          "name": "stdout",
          "text": [
            "alt.atheism: bobby, atheism, atheists, islam, religion, islamic, motto, atheist, satan, vice\n",
            "comp.graphics: graphics, image, 3d, file, computer, hi, video, files, looking, sphere\n",
            "sci.space: space, orbit, launch, nasa, spacecraft, flight, moon, dc, shuttle, solar\n",
            "talk.religion.misc: fbi, christian, christians, christ, order, jesus, children, objective, context, blood\n"
          ]
        }
      ],
      "source": [
        "top10_features(lasso_clf, tfidf, newsgroups_train.target_names)"
      ]
    },
    {
      "cell_type": "markdown",
      "metadata": {
        "id": "KWON6CHQNjeV"
      },
      "source": [
        "### 릿지 회귀(ridge regression)\n"
      ]
    },
    {
      "cell_type": "code",
      "execution_count": null,
      "metadata": {
        "id": "SLWgyuRqNjeV"
      },
      "outputs": [],
      "source": [
        "#from sklearn.linear_model import RidgeClassifier\n",
        "\n",
        "#ridge_clf = RidgeClassifier() # 릿지 분류기 선언\n",
        "#ridge_clf.fit(X_train_tfidf, y_train) # 학습\n",
        "\n",
        "#print('Train set score: {:.3f}'.format(ridge_clf.score(X_train_tfidf, y_train)))\n",
        "#print('Test set score: {:.3f}'.format(ridge_clf.score(X_test_tfidf, y_test)))"
      ]
    },
    {
      "cell_type": "code",
      "source": [
        "#top10_features(ridge_clf, tfidf, newsgroups_train.target_names)"
      ],
      "metadata": {
        "id": "rHl6xdgmQAgu"
      },
      "execution_count": null,
      "outputs": []
    },
    {
      "cell_type": "code",
      "execution_count": null,
      "metadata": {
        "id": "UJKVUo4hNjeW"
      },
      "outputs": [],
      "source": [
        "#from sklearn.model_selection import train_test_split\n",
        "\n",
        "# 8:2의 비율로 나누기\n",
        "#X_train_ridge, X_val_ridge, y_train_ridge, y_val_ridge = train_test_split(X_train_tfidf, y_train, test_size=???, random_state=42) # ... 이 부분을 완성하시오"
      ]
    },
    {
      "cell_type": "code",
      "source": [
        "# alpha 값을 0.1로 할 경우\n",
        "#ridge_clf = RidgeClassifier(alpha=0.1) # 릿지 분류기 선언\n",
        "#ridge_clf.fit(X_train_tfidf, y_train) # 학습\n",
        "\n",
        "#print('Train set score: {:.3f}'.format(ridge_clf.score(X_train_tfidf, y_train)))\n",
        "#print('Test set score: {:.3f}'.format(ridge_clf.score(X_test_tfidf, y_test)))"
      ],
      "metadata": {
        "id": "WAv-96cS0rll"
      },
      "execution_count": null,
      "outputs": []
    },
    {
      "cell_type": "code",
      "source": [
        "# validation에 대한 score를 잰다면?\n",
        "# ... 이 부분을 완성하시오 (전체 코드 작성)"
      ],
      "metadata": {
        "id": "32wLgyhf06G4"
      },
      "execution_count": null,
      "outputs": []
    },
    {
      "cell_type": "code",
      "source": [
        "# alpha를 0.1부터 10까지 0.1씩 증가\n",
        "# ... 이 부분을 완성하시오 (전체 코드 작성)"
      ],
      "metadata": {
        "id": "8yHWabYg1CX2"
      },
      "execution_count": null,
      "outputs": []
    },
    {
      "cell_type": "code",
      "source": [
        "# max_score = 0\n",
        "# max_alpha = 0\n",
        "# for alpha in np.arange(0.1, 10, 0.1): # alpha를 0.1부터 10까지 0.1씩 증가\n",
        "#     ridge_clf = RidgeClassifier(alpha=alpha) # 릿지 분류기 선언\n",
        "#     ridge_clf.fit(X_train_ridge, y_train_ridge) # 학습\n",
        "#     score = ridge_clf.score(X_val_ridge, y_val_ridge) # 검정 데이터셋에 대해 정확도를 측정\n",
        "#     if score > max_score: # 정확도가 이전의 정확도 최대값보다 크면 최대값을 변경한다.\n",
        "#         max_score = score\n",
        "#         max_alpha = alpha\n",
        "# print('Max alpha {:.3f} at max validation score {:.3f}'.format(max_alpha, max_score))"
      ],
      "metadata": {
        "id": "kPLwP9AB0OvO"
      },
      "execution_count": null,
      "outputs": []
    },
    {
      "cell_type": "code",
      "execution_count": null,
      "metadata": {
        "id": "DxGtcCjZNjeW"
      },
      "outputs": [],
      "source": [
        "# 릿지 분류기 선언\n",
        "# ridge_clf = RidgeClassifier(alpha=???) # ... 이 부분을 완성하시오\n",
        "# ridge_clf.fit(X_train_tfidf, y_train) # 학습\n",
        "\n",
        "# print('Train set score: {:.3f}'.format(ridge_clf.score(X_train_tfidf, y_train)))\n",
        "# print('Test set score: {:.3f}'.format(ridge_clf.score(X_test_tfidf, y_test)))"
      ]
    },
    {
      "cell_type": "code",
      "execution_count": null,
      "metadata": {
        "id": "TEtc3MAqNjeW"
      },
      "outputs": [],
      "source": [
        "# top10_features(ridge_clf, tfidf, newsgroups_train.target_names)"
      ]
    },
    {
      "cell_type": "markdown",
      "metadata": {
        "id": "rBbZEcGqNjeW"
      },
      "source": [
        "## 5. 결정트리 등을 이용한 기타 문서 분류 방법\n",
        "\n",
        "1. https://scikit-learn.org/stable/modules/generated/sklearn.tree.DecisionTreeClassifier.html\n",
        "2. https://scikit-learn.org/stable/modules/generated/sklearn.ensemble.RandomForestClassifier.html\n",
        "3. https://scikit-learn.org/stable/modules/generated/sklearn.ensemble.GradientBoostingClassifier.html"
      ]
    },
    {
      "cell_type": "code",
      "source": [
        "# DecisionTreeClassifier\n",
        "# from sklearn.tree import DecisionTreeClassifier\n",
        "\n",
        "# tree = DecisionTreeClassifier(random_state=7)\n",
        "# tree.fit(X_train_tfidf, y_train)\n",
        "\n",
        "# print('#Decision Tree train set score: {:.3f}'.format(tree.score(X_train_tfidf, y_train)))\n",
        "# print('#Decision Tree test set score: {:.3f}'.format(tree.score(X_test_tfidf, y_test)))"
      ],
      "metadata": {
        "id": "l0PPLd-33IOH"
      },
      "execution_count": null,
      "outputs": []
    },
    {
      "cell_type": "code",
      "source": [
        "# RandomForestClassifier\n",
        "# from sklearn.ensemble import RandomForestClassifier\n",
        "\n",
        "# forest = RandomForestClassifier(random_state=7)\n",
        "# forest.fit(X_train_tfidf, y_train)\n",
        "# print('#Random Forest train set score: {:.3f}'.format(forest.score(X_train_tfidf, y_train)))\n",
        "# print('#Random Forest test set score: {:.3f}'.format(forest.score(X_test_tfidf, y_test)))"
      ],
      "metadata": {
        "id": "soR3r5oO3IXz"
      },
      "execution_count": null,
      "outputs": []
    },
    {
      "cell_type": "code",
      "source": [
        "# GradientBoostingClassifier\n",
        "# from sklearn.ensemble import GradientBoostingClassifier\n",
        "\n",
        "# gb = GradientBoostingClassifier(random_state=7)\n",
        "# gb.fit(X_train_tfidf, y_train)\n",
        "# print('#Gradient Boosting train set score: {:.3f}'.format(gb.score(X_train_tfidf, y_train)))\n",
        "# print('#Gradient Boosting test set score: {:.3f}'.format(gb.score(X_test_tfidf, y_test)))"
      ],
      "metadata": {
        "id": "pHjmesE33IgA"
      },
      "execution_count": null,
      "outputs": []
    },
    {
      "cell_type": "code",
      "source": [
        "# gb.feature_importances_"
      ],
      "metadata": {
        "id": "1Ova1v4b4h4G"
      },
      "execution_count": null,
      "outputs": []
    },
    {
      "cell_type": "code",
      "source": [
        "# sorted(gb.feature_importances_, reverse=True)[:40]"
      ],
      "metadata": {
        "id": "csxbwzuu42Xk"
      },
      "execution_count": null,
      "outputs": []
    },
    {
      "cell_type": "code",
      "execution_count": null,
      "metadata": {
        "id": "YDsqOmRMNjeW"
      },
      "outputs": [],
      "source": [
        "# sorted_feature_importances = sorted(zip(tfidf.get_feature_names_out(), gb.feature_importances_), key=lambda x: x[1], reverse=True)\n",
        "# for feature, value in sorted_feature_importances[:40]:\n",
        "    # print('%s: %.3f' % (feature, value), end=', ')"
      ]
    },
    {
      "cell_type": "markdown",
      "source": [
        "# [[실습 4-1-1]]\n",
        "## 지난 시간과 이번 시간에 배운 분류기들의 train/test score를 비교해 보시오.\n",
        "* 코드 실행 결과로 얻은 score 결과를 복사/붙여넣기 혹은 직접 입력\n",
        "* 비교를 통해 어떤 분류기의 성능이 가장 좋은지 평가해 보시오.\n"
      ],
      "metadata": {
        "id": "z4DUvLFMWH6Q"
      }
    },
    {
      "cell_type": "markdown",
      "source": [
        "# train,test score\n",
        "1. 나이브 베이즈 분류기 train score: 0.862, test score: 0.741\n",
        "2. 로지스틱 회귀분석 train score: 0.930, test score: 0.734\n",
        "3. 라쏘 회귀분석 train score: 0.819, test score: 0.724\n",
        "\n",
        "나이브 베이즈 분류기의 성능이 가장 좋다."
      ],
      "metadata": {
        "id": "mlbn8v_U2HU-"
      }
    },
    {
      "cell_type": "markdown",
      "source": [
        "# [[실습 4-1-2]]\n",
        "# coef_의 결과와 feature_importances_ 결과 비교를 통해, 회귀분석 방법과 트리 기반의 분류 방식의 차이점 알아보기\n",
        "* coef_의 결과(여러 분류기 중 1개 이상)와 feature_importances_ 결과(여러 분류기 중 1개 이상) 복사/붙여넣기\n",
        "* 비교를 통해 어떤 차이점이 있는 것 같은지 분석해보시오."
      ],
      "metadata": {
        "id": "cKjT2ubs8sm8"
      }
    },
    {
      "cell_type": "markdown",
      "source": [
        "# (해당 셀을 더블 클릭하여 수정)\n",
        "* coef_의 결과\n",
        "* feature_importances_ 결과"
      ],
      "metadata": {
        "id": "pRnLO8sm8suK"
      }
    },
    {
      "cell_type": "markdown",
      "source": [
        "# [파일] -> [다운로드] -> [.ipynb 다운로드]\n",
        "# 제출 후 **구글 계정 로그아웃** 잘 하시기 바랍니다.\n",
        "# 4-1. 수업 내용 끝"
      ],
      "metadata": {
        "id": "4qITHUlV166U"
      }
    },
    {
      "cell_type": "code",
      "source": [],
      "metadata": {
        "id": "vIELyXMw5vkG"
      },
      "execution_count": null,
      "outputs": []
    }
  ],
  "metadata": {
    "kernelspec": {
      "display_name": "Python 3 (ipykernel)",
      "language": "python",
      "name": "python3"
    },
    "language_info": {
      "codemirror_mode": {
        "name": "ipython",
        "version": 3
      },
      "file_extension": ".py",
      "mimetype": "text/x-python",
      "name": "python",
      "nbconvert_exporter": "python",
      "pygments_lexer": "ipython3",
      "version": "3.8.0"
    },
    "toc": {
      "base_numbering": 1,
      "nav_menu": {},
      "number_sections": true,
      "sideBar": true,
      "skip_h1_title": false,
      "title_cell": "Table of Contents",
      "title_sidebar": "Contents",
      "toc_cell": true,
      "toc_position": {
        "height": "calc(100% - 180px)",
        "left": "10px",
        "top": "150px",
        "width": "165px"
      },
      "toc_section_display": true,
      "toc_window_display": true
    },
    "varInspector": {
      "cols": {
        "lenName": 16,
        "lenType": 16,
        "lenVar": 40
      },
      "kernels_config": {
        "python": {
          "delete_cmd_postfix": "",
          "delete_cmd_prefix": "del ",
          "library": "var_list.py",
          "varRefreshCmd": "print(var_dic_list())"
        },
        "r": {
          "delete_cmd_postfix": ") ",
          "delete_cmd_prefix": "rm(",
          "library": "var_list.r",
          "varRefreshCmd": "cat(var_dic_list()) "
        }
      },
      "types_to_exclude": [
        "module",
        "function",
        "builtin_function_or_method",
        "instance",
        "_Feature"
      ],
      "window_display": false
    },
    "colab": {
      "provenance": []
    }
  },
  "nbformat": 4,
  "nbformat_minor": 0
}
